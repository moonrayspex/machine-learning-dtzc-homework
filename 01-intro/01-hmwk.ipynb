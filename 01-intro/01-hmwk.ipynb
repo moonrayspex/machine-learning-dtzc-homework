{
 "cells": [
  {
   "cell_type": "code",
   "execution_count": 30,
   "id": "f4c21985-a9aa-4c8b-9f3a-5010977f6b7e",
   "metadata": {},
   "outputs": [
    {
     "data": {
      "text/plain": [
       "'2.2.2'"
      ]
     },
     "execution_count": 30,
     "metadata": {},
     "output_type": "execute_result"
    }
   ],
   "source": [
    "import pandas as pd\n",
    "#Q1\n",
    "pd.__version__\n"
   ]
  },
  {
   "cell_type": "code",
   "execution_count": null,
   "id": "f474019b",
   "metadata": {},
   "outputs": [],
   "source": []
  },
  {
   "cell_type": "code",
   "execution_count": 7,
   "id": "877687aa",
   "metadata": {},
   "outputs": [
    {
     "name": "stdout",
     "output_type": "stream",
     "text": [
      "2160\n"
     ]
    }
   ],
   "source": [
    "#Q2\n",
    "df = pd.read_csv(r'https://raw.githubusercontent.com/alexeygrigorev/datasets/master/laptops.csv')\n",
    "row_count = len(df)\n",
    "print(row_count)"
   ]
  },
  {
   "cell_type": "code",
   "execution_count": 11,
   "id": "886b5adc",
   "metadata": {},
   "outputs": [
    {
     "data": {
      "text/plain": [
       "27"
      ]
     },
     "execution_count": 11,
     "metadata": {},
     "output_type": "execute_result"
    }
   ],
   "source": [
    "#Q3\n",
    "df['Brand'].nunique()"
   ]
  },
  {
   "cell_type": "code",
   "execution_count": 16,
   "id": "3167b6c5",
   "metadata": {},
   "outputs": [
    {
     "data": {
      "text/plain": [
       "Laptop             0\n",
       "Status             0\n",
       "Brand              0\n",
       "Model              0\n",
       "CPU                0\n",
       "RAM                0\n",
       "Storage            0\n",
       "Storage type      42\n",
       "GPU             1371\n",
       "Screen             4\n",
       "Touch              0\n",
       "Final Price        0\n",
       "dtype: int64"
      ]
     },
     "execution_count": 16,
     "metadata": {},
     "output_type": "execute_result"
    }
   ],
   "source": [
    "#Q4\n",
    "df.isna().sum()\n"
   ]
  },
  {
   "cell_type": "code",
   "execution_count": 18,
   "id": "3dc373db",
   "metadata": {},
   "outputs": [
    {
     "name": "stdout",
     "output_type": "stream",
     "text": [
      "3936.0\n"
     ]
    }
   ],
   "source": [
    "#Q5\n",
    "dell = df[df['Brand'] == 'Dell']\n",
    "max = dell['Final Price'].max()\n",
    "print(max)"
   ]
  },
  {
   "cell_type": "code",
   "execution_count": 19,
   "id": "be9c4704",
   "metadata": {},
   "outputs": [
    {
     "name": "stdout",
     "output_type": "stream",
     "text": [
      "14.5\n"
     ]
    }
   ],
   "source": [
    "#Q6\n",
    "median =  df['Screen'].median()\n",
    "print(median)"
   ]
  },
  {
   "cell_type": "code",
   "execution_count": 20,
   "id": "b6c61cce",
   "metadata": {},
   "outputs": [
    {
     "name": "stdout",
     "output_type": "stream",
     "text": [
      "15.6\n"
     ]
    }
   ],
   "source": [
    "mode = df['Screen'].value_counts().idxmax()\n",
    "print(mode)"
   ]
  },
  {
   "cell_type": "code",
   "execution_count": 22,
   "id": "30ef55c7",
   "metadata": {},
   "outputs": [],
   "source": [
    "df.loc[df['Screen'].isnull(), 'Screen'] = mode"
   ]
  },
  {
   "cell_type": "code",
   "execution_count": 24,
   "id": "6761e390",
   "metadata": {},
   "outputs": [
    {
     "name": "stdout",
     "output_type": "stream",
     "text": [
      "14.5\n"
     ]
    }
   ],
   "source": [
    "median = df['Screen'].median()\n",
    "print(median)"
   ]
  },
  {
   "cell_type": "code",
   "execution_count": 15,
   "id": "f36906c0",
   "metadata": {},
   "outputs": [
    {
     "name": "stdout",
     "output_type": "stream",
     "text": [
      "[45.58076606  0.42783519 45.29127938]\n",
      "91.2998806299555\n"
     ]
    }
   ],
   "source": [
    "#Q7\n",
    "import numpy as np\n",
    "import pandas as pd\n",
    "df = pd.read_csv(r'https://raw.githubusercontent.com/alexeygrigorev/datasets/master/laptops.csv')\n",
    "innjoo = df[df['Brand'] == 'Innjoo']\n",
    "col = ['RAM', 'Storage', 'Screen']\n",
    "csv_df = innjoo[col]\n",
    "#print(innjoo)\n",
    "\n",
    "\n",
    "# Get the underlying NumPy array. Let's call it X.\n",
    "x = csv_df.values\n",
    "#print(x)\n",
    "# Compute matrix-matrix multiplication between the transpose of X and X. \n",
    "#   #To get the transpose, use X.T. Let's call the result XTX.\n",
    "t_x = x.transpose()\n",
    "#print(t_x)\n",
    "#multiply t_x and x\n",
    "XTX = np.dot(t_x,x)\n",
    "#print(XTX)\n",
    "# Compute the inverse of XTX.\n",
    "i_XTX = np.linalg.inv(XTX)\n",
    "#print(i_XTX)\n",
    "# Create an array y with values [1100, 1300, 800, 900, 1000, 1100].\n",
    "y = np.array([1100, 1300, 800, 900, 1000, 1100])\n",
    "# Multiply the inverse of XTX with the transpose of X, and then multiply the result by y. \n",
    "# #Call the result w.\n",
    "_w = np.dot(i_XTX,t_x)\n",
    "w = np.dot(_w,y)\n",
    "print(w)\n",
    "# What's the sum of all the elements of the result?\n",
    "sum_value = np.sum(w)\n",
    "print(sum_value)\n",
    "\n",
    "\n",
    "\n"
   ]
  },
  {
   "cell_type": "code",
   "execution_count": null,
   "id": "803d5aa0",
   "metadata": {},
   "outputs": [],
   "source": []
  }
 ],
 "metadata": {
  "kernelspec": {
   "display_name": "Python 3 (ipykernel)",
   "language": "python",
   "name": "python3"
  },
  "language_info": {
   "codemirror_mode": {
    "name": "ipython",
    "version": 3
   },
   "file_extension": ".py",
   "mimetype": "text/x-python",
   "name": "python",
   "nbconvert_exporter": "python",
   "pygments_lexer": "ipython3",
   "version": "3.12.1"
  }
 },
 "nbformat": 4,
 "nbformat_minor": 5
}
