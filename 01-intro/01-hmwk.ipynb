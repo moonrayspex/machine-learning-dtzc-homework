{
 "cells": [
  {
   "cell_type": "code",
   "execution_count": 30,
   "id": "f4c21985-a9aa-4c8b-9f3a-5010977f6b7e",
   "metadata": {},
   "outputs": [
    {
     "data": {
      "text/plain": [
       "'2.2.2'"
      ]
     },
     "execution_count": 30,
     "metadata": {},
     "output_type": "execute_result"
    }
   ],
   "source": [
    "import pandas as pd\n",
    "#Q1\n",
    "pd.__version__\n"
   ]
  },
  {
   "cell_type": "code",
   "execution_count": null,
   "id": "f474019b",
   "metadata": {},
   "outputs": [],
   "source": []
  },
  {
   "cell_type": "code",
   "execution_count": 7,
   "id": "877687aa",
   "metadata": {},
   "outputs": [
    {
     "name": "stdout",
     "output_type": "stream",
     "text": [
      "2160\n"
     ]
    }
   ],
   "source": [
    "#Q2\n",
    "df = pd.read_csv(r'https://raw.githubusercontent.com/alexeygrigorev/datasets/master/laptops.csv')\n",
    "row_count = len(df)\n",
    "print(row_count)"
   ]
  },
  {
   "cell_type": "code",
   "execution_count": 11,
   "id": "886b5adc",
   "metadata": {},
   "outputs": [
    {
     "data": {
      "text/plain": [
       "27"
      ]
     },
     "execution_count": 11,
     "metadata": {},
     "output_type": "execute_result"
    }
   ],
   "source": [
    "#Q3\n",
    "df['Brand'].nunique()"
   ]
  },
  {
   "cell_type": "code",
   "execution_count": 16,
   "id": "3167b6c5",
   "metadata": {},
   "outputs": [
    {
     "data": {
      "text/plain": [
       "Laptop             0\n",
       "Status             0\n",
       "Brand              0\n",
       "Model              0\n",
       "CPU                0\n",
       "RAM                0\n",
       "Storage            0\n",
       "Storage type      42\n",
       "GPU             1371\n",
       "Screen             4\n",
       "Touch              0\n",
       "Final Price        0\n",
       "dtype: int64"
      ]
     },
     "execution_count": 16,
     "metadata": {},
     "output_type": "execute_result"
    }
   ],
   "source": [
    "#Q4\n",
    "df.isna().sum()\n"
   ]
  },
  {
   "cell_type": "code",
   "execution_count": 18,
   "id": "3dc373db",
   "metadata": {},
   "outputs": [
    {
     "name": "stdout",
     "output_type": "stream",
     "text": [
      "3936.0\n"
     ]
    }
   ],
   "source": [
    "#Q5\n",
    "dell = df[df['Brand'] == 'Dell']\n",
    "max = dell['Final Price'].max()\n",
    "print(max)"
   ]
  },
  {
   "cell_type": "code",
   "execution_count": 19,
   "id": "be9c4704",
   "metadata": {},
   "outputs": [
    {
     "name": "stdout",
     "output_type": "stream",
     "text": [
      "14.5\n"
     ]
    }
   ],
   "source": [
    "#Q6\n",
    "median =  df['Screen'].median()\n",
    "print(median)"
   ]
  },
  {
   "cell_type": "code",
   "execution_count": 20,
   "id": "b6c61cce",
   "metadata": {},
   "outputs": [
    {
     "name": "stdout",
     "output_type": "stream",
     "text": [
      "15.6\n"
     ]
    }
   ],
   "source": [
    "mode = df['Screen'].value_counts().idxmax()\n",
    "print(mode)"
   ]
  },
  {
   "cell_type": "code",
   "execution_count": 22,
   "id": "30ef55c7",
   "metadata": {},
   "outputs": [],
   "source": [
    "df.loc[df['Screen'].isnull(), 'Screen'] = mode"
   ]
  },
  {
   "cell_type": "code",
   "execution_count": 24,
   "id": "6761e390",
   "metadata": {},
   "outputs": [
    {
     "name": "stdout",
     "output_type": "stream",
     "text": [
      "14.5\n"
     ]
    }
   ],
   "source": [
    "median = df['Screen'].median()\n",
    "print(median)"
   ]
  },
  {
   "cell_type": "code",
   "execution_count": 39,
   "id": "f36906c0",
   "metadata": {},
   "outputs": [
    {
     "name": "stdout",
     "output_type": "stream",
     "text": [
      "[]\n"
     ]
    }
   ],
   "source": [
    "#Q7\n",
    "import numpy as np\n",
    "injoo = df[df['Brand'] == 'Injoo']\n",
    "col = ['RAM', 'Storage', 'Screen']\n",
    "csv_array = injoo[col]\n",
    "#x = np.array(csv_array)\n",
    "x = csv_array.to_numpy()\n",
    "print(x)"
   ]
  },
  {
   "cell_type": "code",
   "execution_count": null,
   "id": "803d5aa0",
   "metadata": {},
   "outputs": [],
   "source": []
  }
 ],
 "metadata": {
  "kernelspec": {
   "display_name": "Python 3 (ipykernel)",
   "language": "python",
   "name": "python3"
  },
  "language_info": {
   "codemirror_mode": {
    "name": "ipython",
    "version": 3
   },
   "file_extension": ".py",
   "mimetype": "text/x-python",
   "name": "python",
   "nbconvert_exporter": "python",
   "pygments_lexer": "ipython3",
   "version": "3.12.1"
  }
 },
 "nbformat": 4,
 "nbformat_minor": 5
}
